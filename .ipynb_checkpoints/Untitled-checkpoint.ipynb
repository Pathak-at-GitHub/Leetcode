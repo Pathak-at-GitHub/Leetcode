{
 "cells": [
  {
   "cell_type": "markdown",
   "id": "c9c8d34b",
   "metadata": {},
   "source": [
    "## Leet code \n",
    "\n",
    "Feb 6 2023"
   ]
  },
  {
   "cell_type": "markdown",
   "id": "2c7c56c2",
   "metadata": {},
   "source": [
    "#### Q1. Given the array nums consisting of 2n elements in the form [x1,x2,...,xn,y1,y2,...,yn]. Return the array in the form [x1,y1,x2,y2,...,xn,yn]."
   ]
  },
  {
   "cell_type": "code",
   "execution_count": 8,
   "id": "53552ac6",
   "metadata": {},
   "outputs": [
    {
     "data": {
      "text/plain": [
       "[2, 3, 5, 4, 1, 7]"
      ]
     },
     "execution_count": 8,
     "metadata": {},
     "output_type": "execute_result"
    }
   ],
   "source": [
    "class Solution:\n",
    "    def shuffle(self, nums: list[int], n: int) -> list[int]:\n",
    "        l1 = nums[0:n]\n",
    "        l2 = nums[n:]\n",
    "        final = []\n",
    "        for i in range(n):\n",
    "            final.append(l1[i])\n",
    "            final.append(l2[i])\n",
    "        return final\n",
    "        \n",
    "S = Solution();\n",
    "S.shuffle([2,5,1,3,4,7], 3)"
   ]
  },
  {
   "cell_type": "markdown",
   "id": "ebd411e2",
   "metadata": {},
   "source": [
    "#### Q2. Given two strings s and p, return an array of all the start indices of p's anagrams in s. You may return the answer in any order.\n",
    "\n",
    "An Anagram is a word or phrase formed by rearranging the letters of a different word or phrase, typically using all the original letters exactly once.{Feb 5, 2023}"
   ]
  },
  {
   "cell_type": "code",
   "execution_count": null,
   "id": "a02b2d98",
   "metadata": {},
   "outputs": [],
   "source": [
    "class Solution:\n",
    "    def findAnagrams(self, s: str, p: str) -> list[int]:\n",
    "        i = 0\n",
    "        j = len(p)\n",
    "        l = []\n",
    "#         print(l)\n",
    "        while j <= len(s):\n",
    "            \n",
    "            if sorted(p):\n",
    "#                 print(l)\n",
    "                l.append(i)\n",
    "            else:\n",
    "                i = i + 1\n",
    "                j = j + 1\n",
    "        print(l)\n",
    "        return l\n",
    "S = Solution()\n",
    "S.findAnagrams(\"cbaebabacd\", \"abc\")"
   ]
  },
  {
   "cell_type": "code",
   "execution_count": null,
   "id": "880d4d0d",
   "metadata": {},
   "outputs": [],
   "source": []
  }
 ],
 "metadata": {
  "kernelspec": {
   "display_name": "Python 3 (ipykernel)",
   "language": "python",
   "name": "python3"
  },
  "language_info": {
   "codemirror_mode": {
    "name": "ipython",
    "version": 3
   },
   "file_extension": ".py",
   "mimetype": "text/x-python",
   "name": "python",
   "nbconvert_exporter": "python",
   "pygments_lexer": "ipython3",
   "version": "3.9.7"
  }
 },
 "nbformat": 4,
 "nbformat_minor": 5
}
