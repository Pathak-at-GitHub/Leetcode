{
 "cells": [
  {
   "cell_type": "markdown",
   "id": "a3ffd54d",
   "metadata": {},
   "source": [
    "## Leet code \n",
    "\n",
    "Feb 6 2023"
   ]
  },
  {
   "cell_type": "markdown",
   "id": "268bc61e",
   "metadata": {},
   "source": [
    "#### Q1. Given the array nums consisting of 2n elements in the form [x1,x2,...,xn,y1,y2,...,yn]. Return the array in the form [x1,y1,x2,y2,...,xn,yn]."
   ]
  },
  {
   "cell_type": "code",
   "execution_count": 8,
   "id": "6947d857",
   "metadata": {},
   "outputs": [
    {
     "data": {
      "text/plain": [
       "[2, 3, 5, 4, 1, 7]"
      ]
     },
     "execution_count": 8,
     "metadata": {},
     "output_type": "execute_result"
    }
   ],
   "source": [
    "class Solution:\n",
    "    def shuffle(self, nums: list[int], n: int) -> list[int]:\n",
    "        l1 = nums[0:n]\n",
    "        l2 = nums[n:]\n",
    "        final = []\n",
    "        for i in range(n):\n",
    "            final.append(l1[i])\n",
    "            final.append(l2[i])\n",
    "        return final\n",
    "        \n",
    "S = Solution();\n",
    "S.shuffle([2,5,1,3,4,7], 3)"
   ]
  },
  {
   "cell_type": "markdown",
   "id": "01ca7a1e",
   "metadata": {},
   "source": [
    "#### Q2. Given two strings s and p, return an array of all the start indices of p's anagrams in s. You may return the answer in any order.\n",
    "\n",
    "An Anagram is a word or phrase formed by rearranging the letters of a different word or phrase, typically using all the original letters exactly once.{Feb 5, 2023}"
   ]
  },
  {
   "cell_type": "code",
   "execution_count": 4,
   "id": "c9e5e737",
   "metadata": {},
   "outputs": [
    {
     "name": "stdout",
     "output_type": "stream",
     "text": [
      "[3]\n"
     ]
    },
    {
     "data": {
      "text/plain": [
       "[3]"
      ]
     },
     "execution_count": 4,
     "metadata": {},
     "output_type": "execute_result"
    }
   ],
   "source": [
    "class Solution:\n",
    "    def findAnagrams(self, s: str, p: str) -> list[int]:\n",
    "        if len(p)>len(s):\n",
    "            return([])\n",
    "        i = 0\n",
    "        j = len(p)\n",
    "        l = []\n",
    "        while j<= len(s):\n",
    "            if sorted(p) == sorted(s[i:j]):\n",
    "                l.append(i)\n",
    "                i = i + 1\n",
    "                j = j + 1\n",
    "            else:\n",
    "                i = i + 1\n",
    "                j = j + 1\n",
    "        print(l)\n",
    "        return l\n",
    "S = Solution()\n",
    "S.findAnagrams(\"eidbaooo\",\"ab\")"
   ]
  },
  {
   "cell_type": "markdown",
   "id": "0dc9c81b",
   "metadata": {},
   "source": [
    "####  Q2. Given two strings s1 and s2, return true if s2 contains a permutation of s1, or false otherwise. In other words, return true if one of s1's permutations is the substring of s2. [Feb 4 2023]"
   ]
  },
  {
   "cell_type": "code",
   "execution_count": 11,
   "id": "6da231dc",
   "metadata": {},
   "outputs": [
    {
     "data": {
      "text/plain": [
       "True"
      ]
     },
     "execution_count": 11,
     "metadata": {},
     "output_type": "execute_result"
    }
   ],
   "source": [
    "class Solution:\n",
    "    def checkInclusion(self, p: str, s: str) -> bool:\n",
    "        if len(p)>len(s):\n",
    "            return False\n",
    "        i = 0\n",
    "        j = len(p)\n",
    "        setbit = 0\n",
    "        while j<= len(s):\n",
    "            if sorted(p) == sorted(s[i:j]):\n",
    "                i = i + 1\n",
    "                j = j + 1\n",
    "                setbit = 1\n",
    "                if setbit == 1:\n",
    "                    return True\n",
    "            else:\n",
    "                i = i + 1\n",
    "                j = j + 1\n",
    "\n",
    "S = Solution()\n",
    "S.checkInclusion(\"ab\",\"eidbaooo\")"
   ]
  }
 ],
 "metadata": {
  "kernelspec": {
   "display_name": "Python 3 (ipykernel)",
   "language": "python",
   "name": "python3"
  },
  "language_info": {
   "codemirror_mode": {
    "name": "ipython",
    "version": 3
   },
   "file_extension": ".py",
   "mimetype": "text/x-python",
   "name": "python",
   "nbconvert_exporter": "python",
   "pygments_lexer": "ipython3",
   "version": "3.9.7"
  }
 },
 "nbformat": 4,
 "nbformat_minor": 5
}
